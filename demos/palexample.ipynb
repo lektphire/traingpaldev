{
 "cells": [
  {
   "cell_type": "code",
   "execution_count": 1,
   "id": "83d449d0",
   "metadata": {},
   "outputs": [],
   "source": [
    "import getpass\n",
    "import os\n",
    "from dotenv import load_dotenv\n",
    "\n",
    "dotenv_path = os.path.join(os.getcwd(), '.env')\n",
    "load_dotenv(dotenv_path)\n",
    "\n",
    "if not os.environ.get(\"OPENAI_API_KEY\"):\n",
    "  os.environ[\"OPENAI_API_KEY\"] = getpass.getpass(\"Enter API key for OpenAI: \")"
   ]
  },
  {
   "cell_type": "code",
   "execution_count": 2,
   "id": "dfc59b06",
   "metadata": {},
   "outputs": [],
   "source": [
    "from typing import Annotated\n",
    "from typing_extensions import TypedDict\n",
    "from langgraph.graph import StateGraph, START, END\n",
    "from langgraph.graph.message import add_messages\n",
    "from langchain.chat_models import init_chat_model\n",
    "from langgraph.checkpoint.memory import MemorySaver\n",
    "from langchain_core.prompts import ChatPromptTemplate\n",
    "from langchain_core.messages import HumanMessage, SystemMessage\n",
    "from langgraph.types import Command\n",
    "\n",
    "llm = init_chat_model(\"gpt-4o-mini\", model_provider=\"openai\")\n",
    "\n",
    "class State(TypedDict):\n",
    "    messages: Annotated[list, add_messages]\n",
    "\n",
    "chatbot_instructions = \"\"\"\n",
    "You are a routing assistant for a stock market chatbot. Your job is to analyze the user’s message and route it to one or more appropriate expert agents. Choose from the following five options:\n",
    "\n",
    "- premarket: for questions about recent news or market trends.\n",
    "- intraday: for questions about active or ongoing trades.\n",
    "- postmarket: for reviewing trades or performance after the trading day.\n",
    "- strategy: for proposed or hypothetical trading strategies.\n",
    "- human_clarification: for questions that are not finance-related or require additional clarification\n",
    "\n",
    "Instructions:\n",
    "\n",
    "- Respond with one or more space-separated agent names. \n",
    "- Do not have duplicate names.\n",
    "- If you include human_clarification, it must be the only agent selected. \n",
    "- If human_clarification is selected, include a follow-up question on the second line. If necessary, acknowledge what the user has said and gently remind the user that you're specifically designed as a trading assistant that can assist with premarket, intraday, postmarket, and strategy inquiries.\n",
    "\"\"\".strip()\n",
    "\n",
    "valid_experts = {\"premarket\", \"intraday\", \"postmarket\", \"strategy\"}\n",
    "\n",
    "def chatbot(state: State):\n",
    "    print(\"---------Chatbot---------\")\n",
    "    prompt = [SystemMessage(chatbot_instructions)] + state[\"messages\"]\n",
    "    ans = llm.invoke(prompt).content\n",
    "    print(ans)\n",
    "    if \"human_clarification\" in ans:\n",
    "        return Command(\n",
    "            update={\"messages\": [ans.splitline()[1]]},\n",
    "            goto=\"human_clarification\",\n",
    "        )\n",
    "    else:\n",
    "        expert_names = ans.strip().split()\n",
    "        while(not all(expert in valid_experts for expert in expert_names) \n",
    "              or len(expert_names) > len(set(expert_names))):\n",
    "            ans = llm.invoke(prompt).content\n",
    "        print(expert_names)\n",
    "        return Command(\n",
    "            goto=expert_names\n",
    "        )\n",
    "\n",
    "\n",
    "def human_clarification(state: State):\n",
    "    print(\"---------Human Clarification---------\")\n",
    "    return \n",
    "    \n",
    "def premarket(state: State):\n",
    "    print(\"---------Premarket---------\")\n",
    "    return {\"messages\": [llm.invoke(state[\"messages\"])]}\n",
    "\n",
    "def intraday(state: State):\n",
    "    print(\"---------Intraday---------\")\n",
    "    return {\"messages\": [llm.invoke(state[\"messages\"])]}\n",
    "\n",
    "def postmarket(state: State):\n",
    "    print(\"---------Postmarket---------\")\n",
    "    return {\"messages\": [llm.invoke(state[\"messages\"])]}\n",
    "\n",
    "def strategy(state: State):\n",
    "    print(\"---------Strategy---------\")\n",
    "    return {\"messages\": [llm.invoke(state[\"messages\"])]}\n",
    "\n",
    "def summary(state: State):\n",
    "    print(\"---------Summary---------\")\n",
    "    return\n",
    "\n",
    "def gating_mechanism(state: State):\n",
    "    return [\"premarket\", \"intraday\", \"postmarket\"]\n",
    "\n",
    "graph_builder = StateGraph(State)\n",
    "graph_builder.add_node(\"chatbot\", chatbot)\n",
    "graph_builder.add_node(\"human_clarification\", human_clarification)\n",
    "graph_builder.add_node(\"premarket\", premarket)\n",
    "graph_builder.add_node(\"intraday\", intraday)\n",
    "graph_builder.add_node(\"postmarket\", postmarket)\n",
    "graph_builder.add_node(\"strategy\", strategy)\n",
    "graph_builder.add_edge(START, \"chatbot\")\n",
    "graph_builder.add_edge(\"human_clarification\", \"chatbot\")\n",
    "# graph_builder.add_conditional_edges(\"chatbot\", gating_mechanism, [\"human_clarification\", \"premarket\", \"intraday\", \"postmarket\", \"strategy\"])\n",
    "graph_builder.add_node(\"summary\", summary)\n",
    "graph_builder.add_edge(\"premarket\", \"summary\")\n",
    "graph_builder.add_edge(\"intraday\", \"summary\")\n",
    "graph_builder.add_edge(\"postmarket\", \"summary\")\n",
    "graph_builder.add_edge(\"strategy\", \"summary\")\n",
    "graph_builder.add_edge(\"summary\", END)\n",
    "\n",
    "checkpointer = MemorySaver()\n",
    "graph = graph_builder.compile(checkpointer=checkpointer, interrupt_before=[\"human_clarification\"])"
   ]
  },
  {
   "cell_type": "code",
   "execution_count": 3,
   "id": "9d9983fc",
   "metadata": {},
   "outputs": [
    {
     "data": {
      "image/png": "[encoded data removed]",
      "text/plain": [
       "<IPython.core.display.Image object>"
      ]
     },
     "metadata": {},
     "output_type": "display_data"
    }
   ],
   "source": [
    "from IPython.display import Image, display\n",
    "\n",
    "try:\n",
    "    display(Image(graph.get_graph().draw_mermaid_png()))\n",
    "except Exception:\n",
    "    pass"
   ]
  },
  {
   "cell_type": "code",
   "execution_count": 4,
   "id": "5630df55",
   "metadata": {},
   "outputs": [
    {
     "name": "stdout",
     "output_type": "stream",
     "text": [
      "content='I have a strategy where I buy when price decreases' additional_kwargs={} response_metadata={} id='5920779c-8b45-435d-a0e6-bd349f65b811'\n",
      "---------Chatbot---------\n",
      "strategy\n",
      "['strategy']\n",
      "---------Strategy---------\n",
      "content='Your strategy of buying when the price decreases is a form of value investing or contrarian investing. This approach relies on the belief that:\\n\\n1. **Market Psychology**: Price decreases can indicate that an asset is undervalued, especially if the underlying fundamentals are still strong. Many investors may panic and sell during downturns, leading to opportunities to buy at a lower price.\\n\\n2. **Mean Reversion**: Prices often return to their historical averages, so buying during a dip may offer a better chance of capitalizing on future price increases.\\n\\n3. **Long-term Gains**: If you hold onto investments for the long term, buying during downturns may provide significant rewards when the market recovers.\\n\\nHowever, there are some considerations and risks associated with this strategy:\\n\\n1. **Identify the Cause**: Understand why the price is decreasing. Sometimes, a decline may reflect serious issues with the asset or the company, making it a poor investment.\\n\\n2. **Timing the Market**: It can be challenging to determine the right moment to buy, as prices can continue to decline after you make your purchase.\\n\\n3. **Emotional Discipline**: Sticking to a strategy that requires buying during downtrends can be difficult during periods of market volatility.\\n\\n4. **Diversification**: Avoid putting all your funds into a single asset that has decreased in price. Diversifying your investments can help manage risk.\\n\\n5. **Risk Management**: Have a clear exit strategy and know your risk tolerance. Setting stop-loss orders can help mitigate potential losses.\\n\\n6. **Research and Fundamentals**: Always conduct thorough research on the asset and ensure that you believe in its long-term value.\\n\\nIf you refine your strategy by integrating analysis and risk management, it can be a viable way to invest. Do you have specific assets in mind, or are you looking for general advice on this strategy?' additional_kwargs={'refusal': None} response_metadata={'token_usage': {'completion_tokens': 377, 'prompt_tokens': 17, 'total_tokens': 394, 'completion_tokens_details': {'accepted_prediction_tokens': 0, 'audio_tokens': 0, 'reasoning_tokens': 0, 'rejected_prediction_tokens': 0}, 'prompt_tokens_details': {'audio_tokens': 0, 'cached_tokens': 0}}, 'model_name': 'gpt-4o-mini-2024-07-18', 'system_fingerprint': 'fp_129a36352a', 'id': 'chatcmpl-BSFyIeCKFWIOSfYr1acdZE0sShQDn', 'finish_reason': 'stop', 'logprobs': None} id='run-d6a89461-5274-4df4-bf86-96436fe28e60-0' usage_metadata={'input_tokens': 17, 'output_tokens': 377, 'total_tokens': 394, 'input_token_details': {'audio': 0, 'cache_read': 0}, 'output_token_details': {'audio': 0, 'reasoning': 0}}\n",
      "---------Summary---------\n",
      "()\n"
     ]
    }
   ],
   "source": [
    "thread_config = {\"configurable\": {\"thread_id\": \"paldemo\"}}\n",
    "for event in graph.stream({\"messages\": [HumanMessage(\"I have a strategy where I buy when price decreases\")]}, config=thread_config, stream_mode=\"values\"):\n",
    "    # print(event)\n",
    "    # for message in event['messages']:\n",
    "    #    print(message)\n",
    "    # print(event['messages'])\n",
    "    print(event['messages'][-1])\n",
    "\n",
    "print(graph.get_state(thread_config).next)\n",
    "# history = list(graph.get_state_history(thread_config))\n",
    "# print(\"---------History---------\")\n",
    "# print(history)\n",
    "# graph.invoke({\"messages\": [HumanMessage(\"How are you today?\")]})"
   ]
  },
  {
   "cell_type": "code",
   "execution_count": 5,
   "id": "da5c97fc",
   "metadata": {},
   "outputs": [
    {
     "name": "stdout",
     "output_type": "stream",
     "text": [
      "2\n",
      "content='I have a strategy where I buy when price decreases' additional_kwargs={} response_metadata={} id='5920779c-8b45-435d-a0e6-bd349f65b811'\n",
      "content='Your strategy of buying when the price decreases is a form of value investing or contrarian investing. This approach relies on the belief that:\\n\\n1. **Market Psychology**: Price decreases can indicate that an asset is undervalued, especially if the underlying fundamentals are still strong. Many investors may panic and sell during downturns, leading to opportunities to buy at a lower price.\\n\\n2. **Mean Reversion**: Prices often return to their historical averages, so buying during a dip may offer a better chance of capitalizing on future price increases.\\n\\n3. **Long-term Gains**: If you hold onto investments for the long term, buying during downturns may provide significant rewards when the market recovers.\\n\\nHowever, there are some considerations and risks associated with this strategy:\\n\\n1. **Identify the Cause**: Understand why the price is decreasing. Sometimes, a decline may reflect serious issues with the asset or the company, making it a poor investment.\\n\\n2. **Timing the Market**: It can be challenging to determine the right moment to buy, as prices can continue to decline after you make your purchase.\\n\\n3. **Emotional Discipline**: Sticking to a strategy that requires buying during downtrends can be difficult during periods of market volatility.\\n\\n4. **Diversification**: Avoid putting all your funds into a single asset that has decreased in price. Diversifying your investments can help manage risk.\\n\\n5. **Risk Management**: Have a clear exit strategy and know your risk tolerance. Setting stop-loss orders can help mitigate potential losses.\\n\\n6. **Research and Fundamentals**: Always conduct thorough research on the asset and ensure that you believe in its long-term value.\\n\\nIf you refine your strategy by integrating analysis and risk management, it can be a viable way to invest. Do you have specific assets in mind, or are you looking for general advice on this strategy?' additional_kwargs={'refusal': None} response_metadata={'token_usage': {'completion_tokens': 377, 'prompt_tokens': 17, 'total_tokens': 394, 'completion_tokens_details': {'accepted_prediction_tokens': 0, 'audio_tokens': 0, 'reasoning_tokens': 0, 'rejected_prediction_tokens': 0}, 'prompt_tokens_details': {'audio_tokens': 0, 'cached_tokens': 0}}, 'model_name': 'gpt-4o-mini-2024-07-18', 'system_fingerprint': 'fp_129a36352a', 'id': 'chatcmpl-BSFyIeCKFWIOSfYr1acdZE0sShQDn', 'finish_reason': 'stop', 'logprobs': None} id='run-d6a89461-5274-4df4-bf86-96436fe28e60-0' usage_metadata={'input_tokens': 17, 'output_tokens': 377, 'total_tokens': 394, 'input_token_details': {'audio': 0, 'cache_read': 0}, 'output_token_details': {'audio': 0, 'reasoning': 0}}\n"
     ]
    }
   ],
   "source": [
    "for event in graph.stream(\n",
    "    Command(resume=\"I'm good!\"),\n",
    "    config=thread_config,\n",
    "    stream_mode=\"values\",\n",
    "):\n",
    "    print(len(event['messages']))\n",
    "    for message in event['messages']:\n",
    "        print(message)"
   ]
  },
  {
   "cell_type": "code",
   "execution_count": null,
   "id": "df8dd16c",
   "metadata": {},
   "outputs": [],
   "source": []
  }
 ],
 "metadata": {
  "kernelspec": {
   "display_name": "venv-trading-pal",
   "language": "python",
   "name": "python3"
  },
  "language_info": {
   "codemirror_mode": {
    "name": "ipython",
    "version": 3
   },
   "file_extension": ".py",
   "mimetype": "text/x-python",
   "name": "python",
   "nbconvert_exporter": "python",
   "pygments_lexer": "ipython3",
   "version": "3.13.1"
  }
 },
 "nbformat": 4,
 "nbformat_minor": 5
}
